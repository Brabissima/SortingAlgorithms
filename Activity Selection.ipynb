{
 "cells": [
  {
   "cell_type": "code",
   "execution_count": 1,
   "id": "fb009348",
   "metadata": {},
   "outputs": [],
   "source": [
    "import numpy as np\n",
    "import random"
   ]
  },
  {
   "cell_type": "code",
   "execution_count": 2,
   "id": "7d476859",
   "metadata": {},
   "outputs": [],
   "source": [
    "def rec_activity_selector(s, f, k, n):\n",
    "    m = k + 1\n",
    "    while m <= n and s[m] < f[k]:\n",
    "        m = m + 1\n",
    "    if m <= n:\n",
    "        return {(s[m], f[m])} | rec_activity_selector(s, f, m, n)\n",
    "    return set()"
   ]
  },
  {
   "cell_type": "code",
   "execution_count": 3,
   "id": "798de1b9",
   "metadata": {},
   "outputs": [],
   "source": [
    "def greedy_activity_selector(s, f):\n",
    "    n = len(s)\n",
    "    A = {(s[0], f[0])}\n",
    "    k = 0\n",
    "    for m in range(1, n):\n",
    "        if(s[m] >= f[k]):\n",
    "            A = A | {(s[m], f[m])}\n",
    "            k = m\n",
    "    return A"
   ]
  },
  {
   "cell_type": "code",
   "execution_count": 7,
   "id": "18c86b05",
   "metadata": {},
   "outputs": [
    {
     "data": {
      "text/plain": [
       "([-1, 3, 4, 5, 5, 8, 9, 11, 12, 12, 14, 15],\n",
       " [0, 7, 10, 10, 12, 14, 14, 15, 16, 16, 16, 16])"
      ]
     },
     "execution_count": 7,
     "metadata": {},
     "output_type": "execute_result"
    }
   ],
   "source": [
    "s = []\n",
    "f = []\n",
    "s.append(-1)\n",
    "f.append(0)\n",
    "for _ in range(11):\n",
    "    s_ = random.randint(0, 15)\n",
    "    f_ = random.randint(s_+1, 16)\n",
    "    s.append(s_)\n",
    "    f.append(f_)\n",
    "s, f = sorted(s), sorted(f)\n",
    "s, f"
   ]
  },
  {
   "cell_type": "code",
   "execution_count": 8,
   "id": "c5d89809",
   "metadata": {},
   "outputs": [
    {
     "data": {
      "text/plain": [
       "{(3, 7), (8, 14), (14, 16)}"
      ]
     },
     "execution_count": 8,
     "metadata": {},
     "output_type": "execute_result"
    }
   ],
   "source": [
    "rec_activity_selector(s, f, 0, 11)"
   ]
  },
  {
   "cell_type": "code",
   "execution_count": 9,
   "id": "1a732d6c",
   "metadata": {},
   "outputs": [
    {
     "data": {
      "text/plain": [
       "{(3, 7), (8, 14), (14, 16)}"
      ]
     },
     "execution_count": 9,
     "metadata": {},
     "output_type": "execute_result"
    }
   ],
   "source": [
    "s.remove(-1)\n",
    "f.remove(0)\n",
    "greedy_activity_selector(s, f)"
   ]
  }
 ],
 "metadata": {
  "kernelspec": {
   "display_name": "Python 3",
   "language": "python",
   "name": "python3"
  },
  "language_info": {
   "codemirror_mode": {
    "name": "ipython",
    "version": 3
   },
   "file_extension": ".py",
   "mimetype": "text/x-python",
   "name": "python",
   "nbconvert_exporter": "python",
   "pygments_lexer": "ipython3",
   "version": "3.8.8"
  }
 },
 "nbformat": 4,
 "nbformat_minor": 5
}
