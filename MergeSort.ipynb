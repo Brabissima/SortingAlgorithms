{
 "cells": [
  {
   "cell_type": "code",
   "execution_count": 7,
   "id": "b5c6faa8",
   "metadata": {},
   "outputs": [],
   "source": [
    "import numpy as np\n",
    "import random"
   ]
  },
  {
   "cell_type": "code",
   "execution_count": 28,
   "id": "7aa8219c",
   "metadata": {},
   "outputs": [],
   "source": [
    "def merge(A, p, r, q):\n",
    "    n_1 = q - p + 1\n",
    "    n_2 = r - q\n",
    "    L = [0]*(n_1)\n",
    "    R = [0]*(n_2)\n",
    "    for i in range(n_1):\n",
    "        L[i] = A[p + i]\n",
    "    for i in range(n_2):\n",
    "        R[i] = A[q + i + 1]\n",
    "    k, i, j = p, 0, 0\n",
    "    \n",
    "    while i < n_1 and j < n_2:\n",
    "        if(L[i] <= R[j]):\n",
    "            A[k] = L[i]\n",
    "            i += 1\n",
    "        elif(R[j] <= L[i]):\n",
    "            A[k] = R[j]\n",
    "            j += 1\n",
    "        k += 1\n",
    "        \n",
    "    while i < n_1:\n",
    "        A[k] = L[i]\n",
    "        i += 1\n",
    "        k += 1\n",
    "        \n",
    "    while j < n_2:\n",
    "        A[k] = R[j]\n",
    "        j += 1\n",
    "        k += 1\n",
    "    print(A)"
   ]
  },
  {
   "cell_type": "code",
   "execution_count": 29,
   "id": "f3811c5d",
   "metadata": {},
   "outputs": [],
   "source": [
    "def mergeSort(A, p, r):\n",
    "    q = int((p + r)/2)\n",
    "    if(r > p):\n",
    "        mergeSort(A, p, q)\n",
    "        mergeSort(A, q + 1, r)\n",
    "        merge(A, p, r, q)\n",
    "    return A"
   ]
  },
  {
   "cell_type": "code",
   "execution_count": 30,
   "id": "c622e2d9",
   "metadata": {},
   "outputs": [],
   "source": [
    "A = [random.randint(0,100) for _ in range(10)]"
   ]
  },
  {
   "cell_type": "code",
   "execution_count": 31,
   "id": "4d6d154b",
   "metadata": {},
   "outputs": [
    {
     "data": {
      "text/plain": [
       "[13, 10, 29, 15, 36, 94, 11, 34, 91, 88]"
      ]
     },
     "execution_count": 31,
     "metadata": {},
     "output_type": "execute_result"
    }
   ],
   "source": [
    "A"
   ]
  },
  {
   "cell_type": "code",
   "execution_count": 32,
   "id": "60878259",
   "metadata": {},
   "outputs": [
    {
     "name": "stdout",
     "output_type": "stream",
     "text": [
      "[10, 13, 29, 15, 36, 94, 11, 34, 91, 88]\n",
      "[10, 13, 29, 15, 36, 94, 11, 34, 91, 88]\n",
      "[10, 13, 29, 15, 36, 94, 11, 34, 91, 88]\n",
      "[10, 13, 15, 29, 36, 94, 11, 34, 91, 88]\n",
      "[10, 13, 15, 29, 36, 11, 94, 34, 91, 88]\n",
      "[10, 13, 15, 29, 36, 11, 34, 94, 91, 88]\n",
      "[10, 13, 15, 29, 36, 11, 34, 94, 88, 91]\n",
      "[10, 13, 15, 29, 36, 11, 34, 88, 91, 94]\n",
      "[10, 11, 13, 15, 29, 34, 36, 88, 91, 94]\n"
     ]
    },
    {
     "data": {
      "text/plain": [
       "[10, 11, 13, 15, 29, 34, 36, 88, 91, 94]"
      ]
     },
     "execution_count": 32,
     "metadata": {},
     "output_type": "execute_result"
    }
   ],
   "source": [
    "mergeSort(A, 0, 9)"
   ]
  },
  {
   "cell_type": "code",
   "execution_count": null,
   "id": "4a6437de",
   "metadata": {},
   "outputs": [],
   "source": []
  }
 ],
 "metadata": {
  "kernelspec": {
   "display_name": "Python 3",
   "language": "python",
   "name": "python3"
  },
  "language_info": {
   "codemirror_mode": {
    "name": "ipython",
    "version": 3
   },
   "file_extension": ".py",
   "mimetype": "text/x-python",
   "name": "python",
   "nbconvert_exporter": "python",
   "pygments_lexer": "ipython3",
   "version": "3.8.8"
  }
 },
 "nbformat": 4,
 "nbformat_minor": 5
}
