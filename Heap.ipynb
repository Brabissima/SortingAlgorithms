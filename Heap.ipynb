{
 "cells": [
  {
   "cell_type": "code",
   "execution_count": 1,
   "id": "189637e8",
   "metadata": {},
   "outputs": [],
   "source": [
    "import numpy as np\n",
    "import random"
   ]
  },
  {
   "cell_type": "code",
   "execution_count": 2,
   "id": "b27f97d9",
   "metadata": {},
   "outputs": [],
   "source": [
    "def parent(i):\n",
    "    return int(i/2)"
   ]
  },
  {
   "cell_type": "code",
   "execution_count": 3,
   "id": "fb145102",
   "metadata": {},
   "outputs": [],
   "source": [
    "def left(i):\n",
    "    return 2*i"
   ]
  },
  {
   "cell_type": "code",
   "execution_count": 4,
   "id": "3d77bd86",
   "metadata": {},
   "outputs": [],
   "source": [
    "def right(i):\n",
    "    return (2*i)+1"
   ]
  },
  {
   "cell_type": "code",
   "execution_count": 5,
   "id": "0b6250f2",
   "metadata": {},
   "outputs": [],
   "source": [
    "def max_heapify(A, i):\n",
    "    l = left(i)\n",
    "    r = right(i)\n",
    "    if l < len(A) and A[l] > A[i]:\n",
    "        largest = l\n",
    "    else:\n",
    "        largest = i\n",
    "    if r < len(A) and A[r] > A[largest]:\n",
    "        largest = r\n",
    "    if largest != i:\n",
    "        aux_exchange = A[i]\n",
    "        A[i] = A[largest]\n",
    "        A[largest] = aux_exchange\n",
    "        max_heapify(A, largest)"
   ]
  },
  {
   "cell_type": "code",
   "execution_count": 6,
   "id": "a9e42871",
   "metadata": {},
   "outputs": [],
   "source": [
    "def build_max_heap(A):\n",
    "    for i in range(int(len(A)/2), 0, -1):\n",
    "        max_heapify(A, i)"
   ]
  },
  {
   "cell_type": "code",
   "execution_count": 7,
   "id": "f1655b31",
   "metadata": {},
   "outputs": [],
   "source": [
    "A = [None, 4, 1, 3, 2, 16, 9, 10, 14, 8, 7]"
   ]
  },
  {
   "cell_type": "code",
   "execution_count": 8,
   "id": "a85985e2",
   "metadata": {},
   "outputs": [
    {
     "data": {
      "text/plain": [
       "[None, 16, 14, 10, 8, 7, 9, 3, 2, 4, 1]"
      ]
     },
     "execution_count": 8,
     "metadata": {},
     "output_type": "execute_result"
    }
   ],
   "source": [
    "build_max_heap(A)\n",
    "A"
   ]
  },
  {
   "cell_type": "code",
   "execution_count": 9,
   "id": "e862489a",
   "metadata": {},
   "outputs": [],
   "source": [
    "A = [None, 16, 4, 10, 14, 7, 9, 3, 2, 8, 1]"
   ]
  },
  {
   "cell_type": "code",
   "execution_count": 10,
   "id": "71a927ea",
   "metadata": {},
   "outputs": [],
   "source": [
    "max_heapify(A, 2)"
   ]
  },
  {
   "cell_type": "code",
   "execution_count": 11,
   "id": "6f329965",
   "metadata": {},
   "outputs": [
    {
     "data": {
      "text/plain": [
       "[None, 16, 14, 10, 8, 7, 9, 3, 2, 4, 1]"
      ]
     },
     "execution_count": 11,
     "metadata": {},
     "output_type": "execute_result"
    }
   ],
   "source": [
    "A"
   ]
  }
 ],
 "metadata": {
  "kernelspec": {
   "display_name": "Python 3",
   "language": "python",
   "name": "python3"
  },
  "language_info": {
   "codemirror_mode": {
    "name": "ipython",
    "version": 3
   },
   "file_extension": ".py",
   "mimetype": "text/x-python",
   "name": "python",
   "nbconvert_exporter": "python",
   "pygments_lexer": "ipython3",
   "version": "3.8.8"
  }
 },
 "nbformat": 4,
 "nbformat_minor": 5
}
