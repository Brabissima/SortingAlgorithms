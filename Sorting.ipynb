{
 "cells": [
  {
   "cell_type": "code",
   "execution_count": 2,
   "id": "dbb746e3",
   "metadata": {},
   "outputs": [],
   "source": [
    "import numpy as np\n",
    "import random"
   ]
  },
  {
   "cell_type": "code",
   "execution_count": 3,
   "id": "ec076d86",
   "metadata": {},
   "outputs": [],
   "source": [
    "A = [(random.randint(0, 30)) for _ in range(10)]"
   ]
  },
  {
   "cell_type": "code",
   "execution_count": 4,
   "id": "60a79615",
   "metadata": {},
   "outputs": [
    {
     "data": {
      "text/plain": [
       "[26, 5, 10, 21, 22, 22, 10, 26, 11, 9]"
      ]
     },
     "execution_count": 4,
     "metadata": {},
     "output_type": "execute_result"
    }
   ],
   "source": [
    "A"
   ]
  },
  {
   "cell_type": "code",
   "execution_count": 5,
   "id": "93e5317b",
   "metadata": {},
   "outputs": [
    {
     "name": "stdout",
     "output_type": "stream",
     "text": [
      "[26, 26, 10, 21, 22, 22, 10, 26, 11, 9]\n",
      "[5, 26, 26, 21, 22, 22, 10, 26, 11, 9]\n",
      "[5, 10, 26, 26, 22, 22, 10, 26, 11, 9]\n",
      "[5, 10, 21, 26, 26, 22, 10, 26, 11, 9]\n",
      "[5, 10, 21, 22, 26, 26, 10, 26, 11, 9]\n",
      "[5, 10, 21, 22, 22, 26, 26, 26, 11, 9]\n",
      "[5, 10, 21, 22, 22, 22, 26, 26, 11, 9]\n",
      "[5, 10, 21, 22, 22, 22, 26, 26, 11, 9]\n",
      "[5, 10, 21, 21, 22, 22, 26, 26, 11, 9]\n",
      "[5, 10, 10, 21, 22, 22, 26, 26, 26, 9]\n",
      "[5, 10, 10, 21, 22, 22, 26, 26, 26, 9]\n",
      "[5, 10, 10, 21, 22, 22, 22, 26, 26, 9]\n",
      "[5, 10, 10, 21, 22, 22, 22, 26, 26, 9]\n",
      "[5, 10, 10, 21, 21, 22, 22, 26, 26, 9]\n",
      "[5, 10, 10, 11, 21, 22, 22, 26, 26, 26]\n",
      "[5, 10, 10, 11, 21, 22, 22, 26, 26, 26]\n",
      "[5, 10, 10, 11, 21, 22, 22, 22, 26, 26]\n",
      "[5, 10, 10, 11, 21, 22, 22, 22, 26, 26]\n",
      "[5, 10, 10, 11, 21, 21, 22, 22, 26, 26]\n",
      "[5, 10, 10, 11, 11, 21, 22, 22, 26, 26]\n",
      "[5, 10, 10, 10, 11, 21, 22, 22, 26, 26]\n",
      "[5, 10, 10, 10, 11, 21, 22, 22, 26, 26]\n",
      "sorted vector: [5, 9, 10, 10, 11, 21, 22, 22, 26, 26]\n"
     ]
    }
   ],
   "source": [
    "for j in range(1, len(A)):\n",
    "    key = A[j]\n",
    "    i = j-1\n",
    "    while i >= 0 and A[i] > key:\n",
    "        A[i+1] = A[i]\n",
    "        print(A)\n",
    "        i = i-1\n",
    "    A[i+1] = key\n",
    "print('sorted vector: {}'.format(A))"
   ]
  }
 ],
 "metadata": {
  "kernelspec": {
   "display_name": "Python 3",
   "language": "python",
   "name": "python3"
  },
  "language_info": {
   "codemirror_mode": {
    "name": "ipython",
    "version": 3
   },
   "file_extension": ".py",
   "mimetype": "text/x-python",
   "name": "python",
   "nbconvert_exporter": "python",
   "pygments_lexer": "ipython3",
   "version": "3.8.8"
  }
 },
 "nbformat": 4,
 "nbformat_minor": 5
}
