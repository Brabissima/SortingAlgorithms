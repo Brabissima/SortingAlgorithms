{
 "cells": [
  {
   "cell_type": "code",
   "execution_count": 1,
   "id": "67ceddd7",
   "metadata": {},
   "outputs": [],
   "source": [
    "import numpy as np\n",
    "import random"
   ]
  },
  {
   "cell_type": "code",
   "execution_count": 2,
   "id": "9ad27041",
   "metadata": {},
   "outputs": [],
   "source": [
    "def partition(A, p, r):\n",
    "    key = A[r]\n",
    "    print(key)\n",
    "    i = p - 1\n",
    "    for j in range(p, r):\n",
    "        if(A[j] <= key):\n",
    "            i += 1\n",
    "            aux = A[i]\n",
    "            A[i] = A[j]\n",
    "            A[j] = aux\n",
    "    aux_change = A[i+1]\n",
    "    A[i+1] = A[r]\n",
    "    A[r] = aux_change\n",
    "    print(A)\n",
    "    return i+1"
   ]
  },
  {
   "cell_type": "code",
   "execution_count": 3,
   "id": "d07fb3d5",
   "metadata": {},
   "outputs": [],
   "source": [
    "def quickSort(A, p, r):\n",
    "    if(p < r):\n",
    "        q = partition(A, p, r)\n",
    "        quickSort(A, p, q - 1)\n",
    "        quickSort(A, q + 1, r)\n",
    "    return A"
   ]
  },
  {
   "cell_type": "code",
   "execution_count": 4,
   "id": "20e146e5",
   "metadata": {},
   "outputs": [],
   "source": [
    "A = [random.randint(0, 100) for _ in range(10)]"
   ]
  },
  {
   "cell_type": "code",
   "execution_count": 5,
   "id": "ac8223a5",
   "metadata": {},
   "outputs": [
    {
     "data": {
      "text/plain": [
       "[60, 80, 78, 10, 93, 87, 20, 76, 87, 88]"
      ]
     },
     "execution_count": 5,
     "metadata": {},
     "output_type": "execute_result"
    }
   ],
   "source": [
    "A"
   ]
  },
  {
   "cell_type": "code",
   "execution_count": 6,
   "id": "4709e02c",
   "metadata": {},
   "outputs": [
    {
     "name": "stdout",
     "output_type": "stream",
     "text": [
      "88\n",
      "[60, 80, 78, 10, 87, 20, 76, 87, 88, 93]\n",
      "87\n",
      "[60, 80, 78, 10, 87, 20, 76, 87, 88, 93]\n",
      "76\n",
      "[60, 10, 20, 76, 87, 78, 80, 87, 88, 93]\n",
      "20\n",
      "[10, 20, 60, 76, 87, 78, 80, 87, 88, 93]\n",
      "80\n",
      "[10, 20, 60, 76, 78, 80, 87, 87, 88, 93]\n"
     ]
    },
    {
     "data": {
      "text/plain": [
       "[10, 20, 60, 76, 78, 80, 87, 87, 88, 93]"
      ]
     },
     "execution_count": 6,
     "metadata": {},
     "output_type": "execute_result"
    }
   ],
   "source": [
    "quickSort(A, 0, 9)"
   ]
  }
 ],
 "metadata": {
  "kernelspec": {
   "display_name": "Python 3",
   "language": "python",
   "name": "python3"
  },
  "language_info": {
   "codemirror_mode": {
    "name": "ipython",
    "version": 3
   },
   "file_extension": ".py",
   "mimetype": "text/x-python",
   "name": "python",
   "nbconvert_exporter": "python",
   "pygments_lexer": "ipython3",
   "version": "3.8.8"
  }
 },
 "nbformat": 4,
 "nbformat_minor": 5
}
