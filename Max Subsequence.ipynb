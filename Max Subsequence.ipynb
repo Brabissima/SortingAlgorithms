{
 "cells": [
  {
   "cell_type": "code",
   "execution_count": 1,
   "id": "cb9d708d",
   "metadata": {},
   "outputs": [],
   "source": [
    "import numpy as np\n",
    "import random"
   ]
  },
  {
   "cell_type": "code",
   "execution_count": 2,
   "id": "4551dbfb",
   "metadata": {},
   "outputs": [],
   "source": [
    "def pre_proc(A):\n",
    "    # transformar A em um vetor das diferenças entre os valores\n",
    "    P = []\n",
    "    P.append(0)\n",
    "    for i in range(1, len(A)):\n",
    "        P.append(A[i] - A[i-1])\n",
    "    return P"
   ]
  },
  {
   "cell_type": "code",
   "execution_count": 28,
   "id": "d1661475",
   "metadata": {},
   "outputs": [],
   "source": [
    "def SSMaxCross(P, start, end, mid):\n",
    "    left_sum = -np.inf\n",
    "    sum_ = 0\n",
    "    for i in range(mid, start-1, -1):\n",
    "        sum_ += P[i-1]\n",
    "        if(sum_ > left_sum):\n",
    "            left_sum = sum_\n",
    "            left_index = i\n",
    "    \n",
    "    right_sum = -np.inf\n",
    "    sum_ = 0\n",
    "    for j in range(mid + 1, end + 1):\n",
    "        sum_ += P[j-1]\n",
    "        if(sum_ > right_sum):\n",
    "            right_sum = sum_\n",
    "            right_index = j\n",
    "            \n",
    "    return (left_index, right_index, left_sum + right_sum)"
   ]
  },
  {
   "cell_type": "code",
   "execution_count": 29,
   "id": "a1f60c5f",
   "metadata": {},
   "outputs": [],
   "source": [
    "def SSMax(P, start, end, i = 0):\n",
    "    if(end != start):\n",
    "        mid = int((start+end)/2)\n",
    "        left_start, left_end, left_value = SSMax(P, start, mid)\n",
    "        right_start, right_end, right_value = SSMax(P, mid + 1, end)\n",
    "        cross_start, cross_end, cross_value = SSMaxCross(P, start, end, mid)\n",
    "\n",
    "        if(left_value >= right_value and left_value >= cross_value):\n",
    "            return left_start, left_end, left_value\n",
    "\n",
    "        elif(right_value >= left_value and right_value >= cross_value):\n",
    "            return right_start, right_end, right_value\n",
    "\n",
    "        else:\n",
    "            return cross_start, cross_end, cross_value\n",
    "    else:\n",
    "        return start, end, P[start]"
   ]
  },
  {
   "cell_type": "code",
   "execution_count": 30,
   "id": "3f01000d",
   "metadata": {},
   "outputs": [
    {
     "data": {
      "text/plain": [
       "[57, 27, 65, 49, 32, 95, 5, 56, 35, 49]"
      ]
     },
     "execution_count": 30,
     "metadata": {},
     "output_type": "execute_result"
    }
   ],
   "source": [
    "A = [random.randint(0,100) for _ in range(10)]\n",
    "A"
   ]
  },
  {
   "cell_type": "code",
   "execution_count": 31,
   "id": "4b521c4d",
   "metadata": {},
   "outputs": [
    {
     "data": {
      "text/plain": [
       "[0, -30, 38, -16, -17, 63, -90, 51, -21, 14]"
      ]
     },
     "execution_count": 31,
     "metadata": {},
     "output_type": "execute_result"
    }
   ],
   "source": [
    "P = pre_proc(A)\n",
    "P"
   ]
  },
  {
   "cell_type": "code",
   "execution_count": 32,
   "id": "93fb7eac",
   "metadata": {},
   "outputs": [
    {
     "data": {
      "text/plain": [
       "(3, 6, 68)"
      ]
     },
     "execution_count": 32,
     "metadata": {},
     "output_type": "execute_result"
    }
   ],
   "source": [
    "SSMax(P, 0, 9)"
   ]
  }
 ],
 "metadata": {
  "kernelspec": {
   "display_name": "Python 3",
   "language": "python",
   "name": "python3"
  },
  "language_info": {
   "codemirror_mode": {
    "name": "ipython",
    "version": 3
   },
   "file_extension": ".py",
   "mimetype": "text/x-python",
   "name": "python",
   "nbconvert_exporter": "python",
   "pygments_lexer": "ipython3",
   "version": "3.8.8"
  }
 },
 "nbformat": 4,
 "nbformat_minor": 5
}
